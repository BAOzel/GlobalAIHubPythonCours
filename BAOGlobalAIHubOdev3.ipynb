{
  "nbformat": 4,
  "nbformat_minor": 0,
  "metadata": {
    "colab": {
      "name": "BAOGlobalAIHubOdev3.ipynb",
      "provenance": [],
      "collapsed_sections": []
    },
    "kernelspec": {
      "name": "python3",
      "display_name": "Python 3"
    },
    "language_info": {
      "name": "python"
    }
  },
  "cells": [
    {
      "cell_type": "markdown",
      "metadata": {
        "id": "V7VzsEAYcXFi"
      },
      "source": [
        "# The 4th day's homework"
      ]
    },
    {
      "cell_type": "code",
      "metadata": {
        "colab": {
          "base_uri": "https://localhost:8080/"
        },
        "id": "uYG-Cgl7ebuW",
        "outputId": "95b3d562-c669-4f84-92da-d16630d82123"
      },
      "source": [
        "n = 58\n",
        "studentslist = []\n",
        "midtermmarkslist =[]\n",
        "projectmarkslist = []\n",
        "finalmarkslist = []\n",
        "for num in range (0, 5):\n",
        "    x = str (input (\"Please enter your name and surname: \"))\n",
        "    y = float (input (\"Please enter your midterm grade:\"))\n",
        "    z = float (input (\"Please enter your project grade: \"))\n",
        "    m = float (input (\"Please enter your final geade: \"))\n",
        "students. append (x)\n",
        "midtermmarks. append (y)\n",
        "projectmarks. append (z)  \n",
        "finalmarks.append (m)"
      ],
      "execution_count": null,
      "outputs": [
        {
          "output_type": "stream",
          "text": [
            "Please enter your name and surname: Betul Ozel\n",
            "Please enter your midterm grade:78\n",
            "Please enter your project grade: 95\n",
            "Please enter your final geade: 91\n",
            "Please enter your name and surname: Gul Pamukcu\n",
            "Please enter your midterm grade:67\n",
            "Please enter your project grade: 89\n",
            "Please enter your final geade: 75\n",
            "Please enter your name and surname: Ahmet Tiryaki\n",
            "Please enter your midterm grade:45.5\n",
            "Please enter your project grade: 75\n",
            "Please enter your final geade: 68.5\n",
            "Please enter your name and surname: Ozlem Guzel\n",
            "Please enter your midterm grade:77\n",
            "Please enter your project grade: 7.5\n",
            "Please enter your final geade: 79\n",
            "Please enter your name and surname: Taner Ersoz\n",
            "Please enter your midterm grade:39\n",
            "Please enter your project grade: 57\n"
          ],
          "name": "stdout"
        }
      ]
    },
    {
      "cell_type": "code",
      "metadata": {
        "id": "WWUqy3s8LSsP",
        "colab": {
          "base_uri": "https://localhost:8080/"
        },
        "outputId": "72c26c3d-ba62-4206-db2a-dc24b6e1151f"
      },
      "source": [
        "list1 = [\"Betul Ozel\",\"Gul Pamukcu\",\"Ahmet Tiryaki\",\"Ozlem Guzel\", \"Taner Ersoz\"]\n",
        "list2 = [78, 67, 45.5, 77, 39]\n",
        "list3 = [95, 89, 75, 87.5, 57]\n",
        "list4 = [91, 75, 68.5, 79, 52]\n",
        "list (zip (list1, list2, list3, list4))\n",
        "for a, b, c in zip (list2, list3, list4):\n",
        "   a = a* 0.3\n",
        "   b =b* 0.3\n",
        "   c = c* 0.4 \n",
        "   print (a+b+c)"
      ],
      "execution_count": null,
      "outputs": [
        {
          "output_type": "stream",
          "text": [
            "88.3\n",
            "76.8\n",
            "63.55\n",
            "80.94999999999999\n",
            "49.599999999999994\n"
          ],
          "name": "stdout"
        }
      ]
    },
    {
      "cell_type": "code",
      "metadata": {
        "colab": {
          "base_uri": "https://localhost:8080/"
        },
        "id": "BAAwFc1VQfDE",
        "outputId": "360491b7-02af-4a31-94a2-e993c12d82e3"
      },
      "source": [
        "d1 = {\"students\": [\"Betul Ozel\", \"Gul Pamukcu\", \"Ahmet Tiryaki\", \"Ozlem Guzel\", \"Taner Ersoz\"], \"midtermarks\": [78, 67, 45.5, 77, 39], \"projectmarks\": [95, 89, 75, 87.5, 57], \"finalmarks\": [91, 75, 68.5, 79, 52], \"passinggrade\": [88.3, 76.8, 63.5, 80.9, 49.5]}\n",
        "for k, v in d1.items():\n",
        "    print (\"Key:\", k, \"Value:\", v)"
      ],
      "execution_count": 1,
      "outputs": [
        {
          "output_type": "stream",
          "text": [
            "Key: students Value: ['Betul Ozel', 'Gul Pamukcu', 'Ahmet Tiryaki', 'Ozlem Guzel', 'Taner Ersoz']\n",
            "Key: midtermarks Value: [78, 67, 45.5, 77, 39]\n",
            "Key: projectmarks Value: [95, 89, 75, 87.5, 57]\n",
            "Key: finalmarks Value: [91, 75, 68.5, 79, 52]\n",
            "Key: passinggrade Value: [88.3, 76, 8, 63.5, 80.9, 49.5]\n"
          ],
          "name": "stdout"
        }
      ]
    },
    {
      "cell_type": "code",
      "metadata": {
        "colab": {
          "base_uri": "https://localhost:8080/"
        },
        "id": "HgP7jcRgSZl7",
        "outputId": "020e1655-0039-453c-ffcc-20936ce04690"
      },
      "source": [
        "d1.items()"
      ],
      "execution_count": 2,
      "outputs": [
        {
          "output_type": "execute_result",
          "data": {
            "text/plain": [
              "dict_items([('students', ['Betul Ozel', 'Gul Pamukcu', 'Ahmet Tiryaki', 'Ozlem Guzel', 'Taner Ersoz']), ('midtermarks', [78, 67, 45.5, 77, 39]), ('projectmarks', [95, 89, 75, 87.5, 57]), ('finalmarks', [91, 75, 68.5, 79, 52]), ('passinggrade', [88.3, 76, 8, 63.5, 80.9, 49.5])])"
            ]
          },
          "metadata": {
            "tags": []
          },
          "execution_count": 2
        }
      ]
    },
    {
      "cell_type": "code",
      "metadata": {
        "colab": {
          "base_uri": "https://localhost:8080/"
        },
        "id": "7mjKs9yrUWqk",
        "outputId": "2b293bd4-d67b-48e1-bb00-9941bb218b4f"
      },
      "source": [
        "list5= [88.3, 76.8, 63.5, 80.9, 49.5]\n",
        "list5.sort()\n",
        "list5"
      ],
      "execution_count": 4,
      "outputs": [
        {
          "output_type": "execute_result",
          "data": {
            "text/plain": [
              "[49.5, 63.5, 76.8, 80.9, 88.3]"
            ]
          },
          "metadata": {
            "tags": []
          },
          "execution_count": 4
        }
      ]
    },
    {
      "cell_type": "code",
      "metadata": {
        "colab": {
          "base_uri": "https://localhost:8080/"
        },
        "id": "d1reqwqEUaxL",
        "outputId": "173ea9ff-1a78-4b1a-fde2-21a50b9eeb0d"
      },
      "source": [
        "list5= [49.5, 63.5, 76.8, 80.9, 88.3]\n",
        "max1 = list5 [4]\n",
        "min1 = list5 [0]\n",
        "print (\"list5[4]:\", min1,\"    \" ,\"list5[0]:\", max1)"
      ],
      "execution_count": null,
      "outputs": [
        {
          "output_type": "stream",
          "text": [
            "list5[4]: 49.5      list5[0]: 88.3\n"
          ],
          "name": "stdout"
        }
      ]
    }
  ]
}