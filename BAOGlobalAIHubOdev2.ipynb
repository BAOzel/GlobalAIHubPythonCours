{
  "nbformat": 4,
  "nbformat_minor": 0,
  "metadata": {
    "colab": {
      "name": "BAOGlobalAIHubOdev2.ipynb",
      "provenance": [],
      "collapsed_sections": []
    },
    "kernelspec": {
      "name": "python3",
      "display_name": "Python 3"
    },
    "language_info": {
      "name": "python"
    }
  },
  "cells": [
    {
      "cell_type": "markdown",
      "metadata": {
        "id": "S3xVGupquPYY"
      },
      "source": [
        "#The first part of the 3rd day's homework"
      ]
    },
    {
      "cell_type": "code",
      "metadata": {
        "id": "POCEvfOytoLN"
      },
      "source": [
        "print (\"Please enter your username and password for login application\")\n",
        "userinput1 = input (\"Your username: \")\n",
        "if userinput1 == username:\n",
        "     userinput2 = input (\"Your password: \")\n",
        "     if userinput2 == password:\n",
        "      print (\"Your login is successful. Welcome!\")\n",
        "     else:\n",
        "       print (\"This password is wrong. Please try again\")\n",
        "else:\n",
        "  print (\"This username is wrong.\")\n"
      ],
      "execution_count": null,
      "outputs": []
    },
    {
      "cell_type": "markdown",
      "metadata": {
        "id": "DN7tGuwZ0159"
      },
      "source": [
        "#The second part of the 3rd day's homework"
      ]
    },
    {
      "cell_type": "code",
      "metadata": {
        "colab": {
          "base_uri": "https://localhost:8080/"
        },
        "id": "c47BohUX1XA5",
        "outputId": "5adf58bc-bb53-4035-d7ad-be890bd6b0c3"
      },
      "source": [
        "print (\"Please enter your username and password for login application\")\n",
        "d = {\"userinput1\": \"username\", \"userinput2\": \"password\"}\n",
        "userinput1 = input (\"Your username: \")\n",
        "userinput2 = input (\"Your password: \")\n",
        "while True:\n",
        "    if ask in d:\n",
        "        print (\"Successfully logged in! Welcome!\")\n",
        "    else:\n",
        "        print (\"Your username and/or password is wrong. Please try again!\")\n",
        "\n"
      ],
      "execution_count": null,
      "outputs": [
        {
          "output_type": "stream",
          "text": [
            "Please enter your username and password for login application\n"
          ],
          "name": "stdout"
        }
      ]
    }
  ]
}