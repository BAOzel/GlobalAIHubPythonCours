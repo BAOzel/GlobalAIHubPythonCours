{
  "nbformat": 4,
  "nbformat_minor": 0,
  "metadata": {
    "colab": {
      "name": "Untitled1.ipynb adlı not defterinin kopyası",
      "provenance": [],
      "collapsed_sections": []
    },
    "kernelspec": {
      "name": "python3",
      "display_name": "Python 3"
    },
    "language_info": {
      "name": "python"
    }
  },
  "cells": [
    {
      "cell_type": "markdown",
      "metadata": {
        "id": "rohbxyEZNZRN"
      },
      "source": [
        "#The first part of 2.nd day's homework"
      ]
    },
    {
      "cell_type": "code",
      "metadata": {
        "colab": {
          "base_uri": "https://localhost:8080/"
        },
        "id": "BODIBtL1f5U3",
        "outputId": "5c089053-3217-46a4-ccda-c1bd10079940"
      },
      "source": [
        "mylist = [1, 2, 3, 4, 5, 6, 7, 8, 9, 10]\n",
        "print (mylist)\n",
        "Number = int (len(mylist))\n",
        "num = int(Number/2)\n",
        "list1 = mylist [ :num]\n",
        "list2 = mylist [num: ]\n",
        "print (\"list1: \", list1)\n",
        "print (\"list2: \", list2)\n",
        "list1, list2 = list2, list1\n",
        "print (\"list1 =\", list1)\n",
        "print (\"list2 =\", list2)\n",
        "\n"
      ],
      "execution_count": null,
      "outputs": [
        {
          "output_type": "stream",
          "text": [
            "[1, 2, 3, 4, 5, 6, 7, 8, 9, 10]\n",
            "list1:  [1, 2, 3, 4, 5]\n",
            "list2:  [6, 7, 8, 9, 10]\n",
            "list1 = [6, 7, 8, 9, 10]\n",
            "list2 = [1, 2, 3, 4, 5]\n"
          ],
          "name": "stdout"
        }
      ]
    },
    {
      "cell_type": "markdown",
      "metadata": {
        "id": "1jc0CPzoNXLN"
      },
      "source": [
        "# The second part of 2.nd day's homework"
      ]
    },
    {
      "cell_type": "code",
      "metadata": {
        "colab": {
          "base_uri": "https://localhost:8080/"
        },
        "id": "y47oI7ppcN1A",
        "outputId": "5b31083b-28ce-496e-f435-dbfe4a0f8ab5"
      },
      "source": [
        "n = int(input(\"Please enter a single digit integer number: \"))\n",
        "for num in range(0, n+1):\n",
        "    if (num %2 == 0):\n",
        "        print (\"{0}\".format(num))"
      ],
      "execution_count": null,
      "outputs": [
        {
          "output_type": "stream",
          "text": [
            "Please enter a single digit integer number: 10\n",
            "0\n",
            "2\n",
            "4\n",
            "6\n",
            "8\n",
            "10\n"
          ],
          "name": "stdout"
        }
      ]
    },
    {
      "cell_type": "markdown",
      "metadata": {
        "id": "6Wzu77Yuh3es"
      },
      "source": [
        "# Yeni Bölüm"
      ]
    }
  ]
}