{
  "nbformat": 4,
  "nbformat_minor": 0,
  "metadata": {
    "colab": {
      "name": "BAOGlobalAIHubFinalProject.ipynb",
      "provenance": [],
      "collapsed_sections": []
    },
    "kernelspec": {
      "name": "python3",
      "display_name": "Python 3"
    },
    "language_info": {
      "name": "python"
    }
  },
  "cells": [
    {
      "cell_type": "code",
      "metadata": {
        "colab": {
          "base_uri": "https://localhost:8080/"
        },
        "id": "zWMHvvIz_tWd",
        "outputId": "7cfc5e37-c3b2-4949-9152-7704182ab157"
      },
      "source": [
        "print (\"Hello! Welcome to Knowledge Competition...!\")\n",
        "\n",
        "print (\"The Rules of Knowledge Competition\")\n",
        "print (\"1-\",\"There are 10 open-ended questions\")\n",
        "print (\"2-\",\"There is only an answer for each question\")\n",
        "print (\"3-\",\"The answers can be an integer or a word\")\n",
        "print (\"4-\",\"You should pay attention to spelling rules  while writing your answers\")\n",
        "print (\"5-\",\"Each question will be valued at 10 point\")\n",
        "print (\"6-\",\"Passing threshold is 5 correct answers\")\n",
        "\n",
        "print (\"Good luck...!\")"
      ],
      "execution_count": 31,
      "outputs": [
        {
          "output_type": "stream",
          "text": [
            "Hello! Welcome to Knowledge Competition...!\n",
            "The Rules of Knowledge Competition\n",
            "1- There are 10 open-ended questions\n",
            "2- There is only an answer for each question\n",
            "3- The answers can be an integer or a word\n",
            "4- You should pay attention to spelling rules  while writing your answers\n",
            "5- Each question will be valued at 10 point\n",
            "6- Passing threshold is 5 correct answers\n",
            "Good luck...!\n"
          ],
          "name": "stdout"
        }
      ]
    },
    {
      "cell_type": "code",
      "metadata": {
        "colab": {
          "base_uri": "https://localhost:8080/"
        },
        "id": "Ls-8h--BFts9",
        "outputId": "73186400-8064-40fc-d3b3-2c65cb013535"
      },
      "source": [
        "sorular = [\"Which is the element denoted by K?\", \"Which city is the ancient cite of Göbeklitepe in?\",\n",
        "                \"What is the name of civilisation that invented writing?\", \"What is the city where Atatürk is registered?\", \n",
        "                \"Which country was İbn-i Sina born?\", \"What is the name of digital currency?\",\"What is the name of gas used for inflating airbags in automobiles?\",\n",
        "                \"What is the name of particle that makes up the light?\", \n",
        "                \"What is the abbreviated name for the molecule containing the genetic code of living things?\", \"What is the surname of the teacher of GlobalAIHubPythonCourse?\"] \n",
        "cevaplar = [\"Potasyum\", \"Şanlıurfa\", \"Sümerler\", \"Gaziantep\", \"Özbekistan\", \"bitcoin\", \"Nitrojen\", \"photon\", \"DNA\", \"Cengiz\"]\n",
        "\n",
        "num = 0 \n",
        "correct = 0    \n",
        "print (\"Soru 1: \", sorular[0])\n",
        "a = str (input(\"Yanıtınız: \"))\n",
        "if a == cevaplar [0]:\n",
        "        if a == a.capitalize():\n",
        "           print (\"Tebrikler...! Doğru yanıtladınız...\")\n",
        "           correct +=1\n",
        "           print (\"Doğru cevap sayınız: {}\". format(correct))\n",
        "           num +=10\n",
        "           print (\"Puanınız: {0}\".format(num))\n",
        "else :\n",
        "           print (\"Üzgünüz...!\", \"Yanlış yanıtladınız...\")"
      ],
      "execution_count": 49,
      "outputs": [
        {
          "output_type": "stream",
          "text": [
            "Soru 1:  Which is the element denoted by K?\n",
            "Yanıtınız: Potasyum\n",
            "Tebrikler...! Doğru yanıtladınız...\n",
            "Doğru cevap sayınız: 1\n",
            "Puanınız: 10\n"
          ],
          "name": "stdout"
        }
      ]
    },
    {
      "cell_type": "code",
      "metadata": {
        "colab": {
          "base_uri": "https://localhost:8080/"
        },
        "id": "qZDjRR3QWkzA",
        "outputId": "6a692823-7bd5-4d89-db60-c0c8e2bac6ea"
      },
      "source": [
        "num = 10 \n",
        "correct = 1    \n",
        "print (\"Soru 2: \", sorular[1])\n",
        "a = str (input(\"Yanıtınız: \"))\n",
        "if a == cevaplar [1]:\n",
        "        if a == a.capitalize():\n",
        "           print (\"Tebrikler...! Doğru yanıtladınız...\")\n",
        "           correct +=1\n",
        "           print (\"Doğru cevap sayınız: {}\". format(correct))\n",
        "           num +=10\n",
        "           print (\"Puanınız: {0}\".format(num))\n",
        "else :\n",
        "           print (\"Üzgünüz...!\", \"Yanlış yanıtladınız...\")"
      ],
      "execution_count": 50,
      "outputs": [
        {
          "output_type": "stream",
          "text": [
            "Soru 2:  Which city is the ancient cite of Göbeklitepe in?\n",
            "Yanıtınız: şanlıurfa\n",
            "Üzgünüz...! Yanlış yanıtladınız...\n"
          ],
          "name": "stdout"
        }
      ]
    },
    {
      "cell_type": "code",
      "metadata": {
        "colab": {
          "base_uri": "https://localhost:8080/"
        },
        "id": "8wr8lHkqXLbI",
        "outputId": "74a22804-bc27-42f3-f8f3-c0c1ddf182f1"
      },
      "source": [
        "num = 10 \n",
        "correct = 1    \n",
        "print (\"Soru 3: \", sorular[2])\n",
        "a = str (input(\"Yanıtınız: \"))\n",
        "if a == cevaplar [2]:\n",
        "        if a == a.capitalize():\n",
        "           print (\"Tebrikler...! Doğru yanıtladınız...\")\n",
        "           correct +=1\n",
        "           print (\"Doğru cevap sayınız: {}\". format(correct))\n",
        "           num +=10\n",
        "           print (\"Puanınız: {0}\".format(num))\n",
        "else :\n",
        "           print (\"Üzgünüz...!\", \"Yanlış yanıtladınız...\")"
      ],
      "execution_count": 53,
      "outputs": [
        {
          "output_type": "stream",
          "text": [
            "Soru 3:  What is the name of civilisation that invented writing?\n",
            "Yanıtınız: Sümerler\n",
            "Tebrikler...! Doğru yanıtladınız...\n",
            "Doğru cevap sayınız: 2\n",
            "Puanınız: 20\n"
          ],
          "name": "stdout"
        }
      ]
    },
    {
      "cell_type": "code",
      "metadata": {
        "colab": {
          "base_uri": "https://localhost:8080/"
        },
        "id": "I_5NtjxDXYRS",
        "outputId": "c22ed304-95b4-477a-dde8-c71d0fb15f1f"
      },
      "source": [
        "num = 20 \n",
        "correct = 2    \n",
        "print (\"Soru 4: \", sorular[3])\n",
        "a = str (input(\"Yanıtınız: \"))\n",
        "if a == cevaplar [3]:\n",
        "        if a == a.capitalize():\n",
        "           print (\"Tebrikler...! Doğru yanıtladınız...\")\n",
        "           correct +=1\n",
        "           print (\"Doğru cevap sayınız: {}\". format(correct))\n",
        "           num +=10\n",
        "           print (\"Puanınız: {0}\".format(num))\n",
        "else :\n",
        "           print (\"Üzgünüz...!\", \"Yanlış yanıtladınız...\")"
      ],
      "execution_count": 54,
      "outputs": [
        {
          "output_type": "stream",
          "text": [
            "Soru 4:  What is the city where Atatürk is registered?\n",
            "Yanıtınız: Gaziantep\n",
            "Tebrikler...! Doğru yanıtladınız...\n",
            "Doğru cevap sayınız: 3\n",
            "Puanınız: 30\n"
          ],
          "name": "stdout"
        }
      ]
    },
    {
      "cell_type": "code",
      "metadata": {
        "colab": {
          "base_uri": "https://localhost:8080/"
        },
        "id": "j4A-MmtAY0FO",
        "outputId": "3e581ee4-77be-46da-8a09-ad68419a6001"
      },
      "source": [
        "num = 30 \n",
        "correct = 3    \n",
        "print (\"Soru 5: \", sorular[4])\n",
        "a = str (input(\"Yanıtınız: \"))\n",
        "if a == cevaplar [4]:\n",
        "        if a == a.capitalize():\n",
        "           print (\"Tebrikler...! Doğru yanıtladınız...\")\n",
        "           correct +=1\n",
        "           print (\"Doğru cevap sayınız: {}\". format(correct))\n",
        "           num +=10\n",
        "           print (\"Puanınız: {0}\".format(num))\n",
        "else :\n",
        "           print (\"Üzgünüz...!\", \"Yanlış yanıtladınız...\")"
      ],
      "execution_count": 58,
      "outputs": [
        {
          "output_type": "stream",
          "text": [
            "Soru 5:  Which country was İbn-i Sina born?\n",
            "Yanıtınız: Türkiye\n",
            "Üzgünüz...! Yanlış yanıtladınız...\n"
          ],
          "name": "stdout"
        }
      ]
    },
    {
      "cell_type": "code",
      "metadata": {
        "colab": {
          "base_uri": "https://localhost:8080/"
        },
        "id": "nUjKo8xzZFXy",
        "outputId": "c6c576ac-cd0d-44c3-937c-1aea730f2c94"
      },
      "source": [
        "num = 30 \n",
        "correct = 3    \n",
        "print (\"Soru 6: \", sorular[5])\n",
        "a = str (input(\"Yanıtınız: \"))\n",
        "if a == cevaplar [5]:\n",
        "        if a == a.lower():\n",
        "           print (\"Tebrikler...! Doğru yanıtladınız...\")\n",
        "           correct +=1\n",
        "           print (\"Doğru cevap sayınız: {}\". format(correct))\n",
        "           num +=10\n",
        "           print (\"Puanınız: {0}\".format(num))\n",
        "else :\n",
        "           print (\"Üzgünüz...!\", \"Yanlış yanıtladınız...\")"
      ],
      "execution_count": 59,
      "outputs": [
        {
          "output_type": "stream",
          "text": [
            "Soru 6:  What is the name of digital currency?\n",
            "Yanıtınız: bitcoin\n",
            "Tebrikler...! Doğru yanıtladınız...\n",
            "Doğru cevap sayınız: 4\n",
            "Puanınız: 40\n"
          ],
          "name": "stdout"
        }
      ]
    },
    {
      "cell_type": "code",
      "metadata": {
        "colab": {
          "base_uri": "https://localhost:8080/"
        },
        "id": "Cxy_nPWFZ_Ff",
        "outputId": "0ffb73fc-491c-4728-ac82-d2b3d702cabf"
      },
      "source": [
        "num = 40 \n",
        "correct = 4    \n",
        "print (\"Soru 7: \", sorular[6])\n",
        "a = str (input(\"Yanıtınız: \"))\n",
        "if a == cevaplar [6]:\n",
        "        if a == a.capitalize():\n",
        "           print (\"Tebrikler...! Doğru yanıtladınız...\")\n",
        "           correct +=1\n",
        "           print (\"Doğru cevap sayınız: {}\". format(correct))\n",
        "           num +=10\n",
        "           print (\"Puanınız: {0}\".format(num))\n",
        "else :\n",
        "           print (\"Üzgünüz...!\", \"Yanlış yanıtladınız...\")"
      ],
      "execution_count": 60,
      "outputs": [
        {
          "output_type": "stream",
          "text": [
            "Soru 7:  What is the name of gas used for inflating airbags in automobiles?\n",
            "Yanıtınız: oksijen\n",
            "Üzgünüz...! Yanlış yanıtladınız...\n"
          ],
          "name": "stdout"
        }
      ]
    },
    {
      "cell_type": "code",
      "metadata": {
        "colab": {
          "base_uri": "https://localhost:8080/"
        },
        "id": "w66FaypbaWYI",
        "outputId": "15a68391-d3ae-4c9d-8423-b65748b078f6"
      },
      "source": [
        "num = 40 \n",
        "correct = 4    \n",
        "print (\"Soru 8: \", sorular[7])\n",
        "a = str (input(\"Yanıtınız: \"))\n",
        "if a == cevaplar [7]:\n",
        "        if a == a.lower():\n",
        "           print (\"Tebrikler...! Doğru yanıtladınız...\")\n",
        "           correct +=1\n",
        "           print (\"Doğru cevap sayınız: {}\". format(correct))\n",
        "           num +=10\n",
        "           print (\"Puanınız: {0}\".format(num))\n",
        "else :\n",
        "           print (\"Üzgünüz...!\", \"Yanlış yanıtladınız...\")"
      ],
      "execution_count": 61,
      "outputs": [
        {
          "output_type": "stream",
          "text": [
            "Soru 8:  What is the name of particle that makes up the light?\n",
            "Yanıtınız: photon\n",
            "Tebrikler...! Doğru yanıtladınız...\n",
            "Doğru cevap sayınız: 5\n",
            "Puanınız: 50\n"
          ],
          "name": "stdout"
        }
      ]
    },
    {
      "cell_type": "code",
      "metadata": {
        "colab": {
          "base_uri": "https://localhost:8080/"
        },
        "id": "XA0_FAMiatZz",
        "outputId": "85b70239-225d-427c-cc3f-9c1d8662be8d"
      },
      "source": [
        "num = 50 \n",
        "correct = 5    \n",
        "print (\"Soru 9: \", sorular[8])\n",
        "a = str (input(\"Yanıtınız: \"))\n",
        "if a == cevaplar [8]:\n",
        "        if a == a.upper():\n",
        "           print (\"Tebrikler...! Doğru yanıtladınız...\")\n",
        "           correct +=1\n",
        "           print (\"Doğru cevap sayınız: {}\". format(correct))\n",
        "           num +=10\n",
        "           print (\"Puanınız: {0}\".format(num))\n",
        "else :\n",
        "           print (\"Üzgünüz...!\", \"Yanlış yanıtladınız...\")"
      ],
      "execution_count": 62,
      "outputs": [
        {
          "output_type": "stream",
          "text": [
            "Soru 9:  What is the abbreviated name for the molecule containing the genetic code of living things?\n",
            "Yanıtınız: RNA\n",
            "Üzgünüz...! Yanlış yanıtladınız...\n"
          ],
          "name": "stdout"
        }
      ]
    },
    {
      "cell_type": "code",
      "metadata": {
        "colab": {
          "base_uri": "https://localhost:8080/"
        },
        "id": "aQkUXgdLa8l2",
        "outputId": "d01d8c5c-efaf-4d03-f77e-4ed967ebfd44"
      },
      "source": [
        "num = 50 \n",
        "correct = 5    \n",
        "print (\"Soru 10: \", sorular[9])\n",
        "a = str (input(\"Yanıtınız: \"))\n",
        "if a == cevaplar [9]:\n",
        "        if a == a.capitalize():\n",
        "           print (\"Tebrikler...! Doğru yanıtladınız...\")\n",
        "           correct +=1\n",
        "           print (\"Doğru cevap sayınız: {}\". format(correct))\n",
        "           num +=10\n",
        "           print (\"Puanınız: {0}\".format(num))\n",
        "else :\n",
        "           print (\"Üzgünüz...!\", \"Yanlış yanıtladınız...\")\n",
        "\n",
        "if correct > 5:\n",
        "           print (\"Tebrikler!!! Doğru sayınız 5'in üzerinde...Çok başarılıydınız!!!\")\n",
        "else:\n",
        "           print (\"Üzgünüz... Doğru sayınız 5 ya da 5'in altında...Daha sonra tekrar deneyebilirsiniz...\")"
      ],
      "execution_count": 64,
      "outputs": [
        {
          "output_type": "stream",
          "text": [
            "Soru 10:  What is the surname of the teacher of GlobalAIHubPythonCourse?\n",
            "Yanıtınız: Cengiz\n",
            "Tebrikler...! Doğru yanıtladınız...\n",
            "Doğru cevap sayınız: 6\n",
            "Puanınız: 60\n",
            "Tebrikler!!! Doğru sayınız 5'in üzerinde...Çok başarılıydınız!!!\n"
          ],
          "name": "stdout"
        }
      ]
    }
  ]
}